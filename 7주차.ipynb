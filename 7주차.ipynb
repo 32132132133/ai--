{
 "cells": [
  {
   "cell_type": "code",
   "execution_count": null,
   "id": "e5817696",
   "metadata": {},
   "outputs": [],
   "source": [
    "# 점수 리스트 변수 선언\n",
    "scores = []\n",
    "\n",
    "# 반복적으로 점수 입력받기\n",
    "while True:\n",
    "  try:\n",
    "    score = int(input(\"점수를 입력하세요: \"))\n",
    "    scores.append(score)\n",
    "  except ValueError:\n",
    "    # 입력 값이 숫자가 아닌 경우 프로그램 종료\n",
    "    break\n",
    "\n",
    "# 입력 데이터 출력\n",
    "print(\"입력 데이터:\", scores)\n",
    "\n",
    "# 합계 계산\n",
    "total = sum(scores)\n",
    "\n",
    "# 총 인원수 계산\n",
    "count = len(scores)\n",
    "\n",
    "# 평균 계산\n",
    "average = total / count if count else 0\n",
    "\n",
    "# 결과 출력\n",
    "print(\"합계:\", total)\n",
    "print(\"인원수:\", count)\n",
    "print(\"평균:\", average)\n"
   ]
  },
  {
   "cell_type": "code",
   "execution_count": null,
   "id": "0681cab1",
   "metadata": {},
   "outputs": [],
   "source": [
    "languages = ['Python', 'Java', 'JavaScript']\n",
    "for index, language in enumerate(languages):\n",
    "  print(f\"({index}, '{language}')\")\n"
   ]
  },
  {
   "cell_type": "code",
   "execution_count": null,
   "id": "3ac791dd",
   "metadata": {},
   "outputs": [],
   "source": [
    "words = ['Hello', 'world', 'this', 'is', 'a', 'test']\n",
    "sentence = ' '.join(words)\n",
    "print(sentence)\n",
    "# 출력: \"Hello world this is a test\"\n"
   ]
  },
  {
   "cell_type": "code",
   "execution_count": null,
   "id": "bc81f204",
   "metadata": {},
   "outputs": [],
   "source": [
    "txt = \"apple#banana#cherry#orange\"\n",
    "x = txt.split(\"#\")\n",
    "print(x)\n",
    "# 출력: ['apple', 'banana', 'cherry', 'orange']\n"
   ]
  }
 ],
 "metadata": {
  "kernelspec": {
   "display_name": "Python 3 (ipykernel)",
   "language": "python",
   "name": "python3"
  },
  "language_info": {
   "codemirror_mode": {
    "name": "ipython",
    "version": 3
   },
   "file_extension": ".py",
   "mimetype": "text/x-python",
   "name": "python",
   "nbconvert_exporter": "python",
   "pygments_lexer": "ipython3",
   "version": "3.9.13"
  }
 },
 "nbformat": 4,
 "nbformat_minor": 5
}
