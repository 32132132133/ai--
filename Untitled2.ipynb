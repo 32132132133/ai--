{
 "cells": [
  {
   "cell_type": "code",
   "execution_count": null,
   "id": "61b7e3ce",
   "metadata": {},
   "outputs": [],
   "source": [
    "# 숫자 출력\n",
    "print(1, 2, 3)\n",
    "\n",
    "# 문자열 출력\n",
    "print(\"Hello\", \"World!\")\n",
    "\n",
    "# 변수 출력\n",
    "x = 10\n",
    "y = \"파이썬\"\n",
    "print(x, y)\n"
   ]
  }
 ],
 "metadata": {
  "kernelspec": {
   "display_name": "Python 3 (ipykernel)",
   "language": "python",
   "name": "python3"
  },
  "language_info": {
   "codemirror_mode": {
    "name": "ipython",
    "version": 3
   },
   "file_extension": ".py",
   "mimetype": "text/x-python",
   "name": "python",
   "nbconvert_exporter": "python",
   "pygments_lexer": "ipython3",
   "version": "3.9.13"
  }
 },
 "nbformat": 4,
 "nbformat_minor": 5
}
