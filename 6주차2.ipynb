{
 "cells": [
  {
   "cell_type": "code",
   "execution_count": null,
   "id": "2b42736c",
   "metadata": {},
   "outputs": [],
   "source": [
    "fruits = [\"banana\", \"apple\", \"orange\", \"cherry\"]\n",
    "\n",
    "# \"apple\" 요소 출력\n",
    "print(fruits[1])\n",
    "\n",
    "numbers = [10, 20, 30, 40, 50]\n",
    "\n",
    "# 마지막 요소 출력\n",
    "print(numbers[-1])\n",
    "fruits = [\"apple\", \"banana\", \"cherry\"]\n",
    "\n",
    "# \"banana\"를 \"grape\"로 변경\n",
    "fruits[1] = \"grape\"\n",
    "print(fruits)\n",
    "\n",
    "fruits = [\"apple\", \"banana\", \"cherry\"]\n",
    "\n",
    "# \"strawberry\" 요소 추가\n",
    "fruits.append(\"strawberry\")\n",
    "print(fruits)\n",
    "\n",
    "numbers = [10, 20, 30, 40, 50]\n",
    "\n",
    "# 30 제거\n",
    "numbers.remove(30)\n",
    "print(numbers)\n",
    "\n",
    "numbers = [5, 10, 15, 20, 25]\n",
    "\n",
    "# 리스트 길이 출력\n",
    "print(len(numbers))\n",
    "\n",
    "numbers = [10, 5, 8, 3, 15]\n",
    "\n",
    "# 최소값과 최대값 출력\n",
    "print(min(numbers), max(numbers))\n",
    "\n",
    "numbers = [10, 20, 30, 40, 50]\n",
    "\n",
    "# 리스트 요소 합 계산\n",
    "total = sum(numbers)\n",
    "print(total)\n",
    "\n",
    "numbers = [1, 2, 3, 4, 5]\n",
    "\n",
    "# 모든 요소 제곱하여 새로운 리스트 생성\n",
    "squared_numbers = [number * number for number in numbers]\n",
    "print(squared_numbers)\n",
    "\n",
    "fruits = [\"apple\", \"banana\", \"apple\", \"cherry\", \"apple\"]\n",
    "\n",
    "# \"apple\" 개수 출력\n",
    "apple_count = fruits.count(\"apple\")\n",
    "print(apple_count)\n",
    "\n",
    "\n",
    "\n",
    "\n",
    "\n"
   ]
  },
  {
   "cell_type": "code",
   "execution_count": null,
   "id": "54e56199",
   "metadata": {},
   "outputs": [],
   "source": [
    "def square(x):\n",
    "    return x**2\n",
    "\n",
    "ret = square(6)\n",
    "print(ret)"
   ]
  },
  {
   "cell_type": "code",
   "execution_count": null,
   "id": "1f54b3c6",
   "metadata": {},
   "outputs": [],
   "source": [
    "def bmi(weight, height):\n",
    "  \n",
    "  if height <= 0:\n",
    "    raise ValueError(\"키는 0보다 커야 합니다.\")\n",
    "  bmi = weight / (height ** 2)\n",
    "  return bmi\n",
    "\n",
    "# 예시 사용\n",
    "weight = 65  # kg\n",
    "height = 1.7  # m\n",
    "\n",
    "bmi = bmi(weight, height)\n",
    "print(f\"BMI: {bmi:.2f}\")\n"
   ]
  }
 ],
 "metadata": {
  "kernelspec": {
   "display_name": "Python 3 (ipykernel)",
   "language": "python",
   "name": "python3"
  },
  "language_info": {
   "codemirror_mode": {
    "name": "ipython",
    "version": 3
   },
   "file_extension": ".py",
   "mimetype": "text/x-python",
   "name": "python",
   "nbconvert_exporter": "python",
   "pygments_lexer": "ipython3",
   "version": "3.9.13"
  }
 },
 "nbformat": 4,
 "nbformat_minor": 5
}
