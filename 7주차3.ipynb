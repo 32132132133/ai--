{
 "cells": [
  {
   "cell_type": "code",
   "execution_count": null,
   "id": "71dc1f3d",
   "metadata": {},
   "outputs": [],
   "source": [
    "def calculate_total_price(fruits_dict, purchased_items):\n",
    "    total_price = 0\n",
    "    for fruit, quantity in purchased_items.items():\n",
    "        if fruit in fruits_dict:\n",
    "            total_price += fruits_dict[fruit] * quantity\n",
    "    return total_price\n",
    "\n",
    "def main():\n",
    "    n = int(input())  # 과일의 종류 개수 입력\n",
    "    fruits_dict = {}\n",
    "    for _ in range(n):\n",
    "        fruit, price = input().split()\n",
    "        fruits_dict[fruit] = int(price)\n",
    "\n",
    "    m = int(input())  # 구매한 과일의 종류 개수 입력\n",
    "    purchased_items = {}\n",
    "    for _ in range(m):\n",
    "        fruit, quantity = input().split()\n",
    "        purchased_items[fruit] = int(quantity)\n",
    "\n",
    "    total_price = calculate_total_price(fruits_dict, purchased_items)\n",
    "    print(total_price)\n",
    "\n",
    "if __name__ == \"__main__\":\n",
    "    main()\n"
   ]
  },
  {
   "cell_type": "code",
   "execution_count": null,
   "id": "afe1d9f2",
   "metadata": {},
   "outputs": [],
   "source": [
    "import numpy as np\n",
    "\n",
    "array = np.arange(1, 10, 2)\n",
    "print(array)\n"
   ]
  },
  {
   "cell_type": "code",
   "execution_count": null,
   "id": "4285a4cf",
   "metadata": {},
   "outputs": [],
   "source": [
    "import numpy as np\n",
    "\n",
    "array = np.ones((3, 4))\n",
    "print(array)\n"
   ]
  },
  {
   "cell_type": "code",
   "execution_count": null,
   "id": "d6e447ed",
   "metadata": {},
   "outputs": [],
   "source": [
    "import numpy as np\n",
    "\n",
    "array = np.linspace(0, 1, 10)\n",
    "print(array)\n"
   ]
  },
  {
   "cell_type": "code",
   "execution_count": null,
   "id": "b3f6610e",
   "metadata": {},
   "outputs": [],
   "source": [
    "import numpy as np\n",
    "\n",
    "# A 행렬 생성\n",
    "A = np.array([\n",
    "    [ 1, 2, 3, 4, 5],\n",
    "    [ 6, 7, 8, 9, 10],\n",
    "    [11, 12, 13, 14, 15],\n",
    "    [16, 17, 18, 19, 20],\n",
    "    [21, 22, 23, 24, 25]\n",
    "])\n",
    "\n",
    "# A의 모양 출력\n",
    "print(\"A의 모양:\", A.shape)\n",
    "\n",
    "# 19 값을 추출\n",
    "print(\"19 값:\", A[3, 3])\n",
    "\n",
    "# [[1, 2], [6, 7]] 값을 추출\n",
    "print(\"슬라이싱 결과:\", A[:2, :2])\n",
    "\n",
    "# [[19, 20], [24, 25]] 값을 추출\n",
    "print(\"슬라이싱 결과:\", A[3:, 3:])\n",
    "\n",
    "# 0축의 첫 번째 행과 두 번째 행을 추출\n",
    "print(\"첫 번째 행과 두 번째 행:\", A[:2, :])\n",
    "\n",
    "# 1축의 마지막 열과 마지막 직전 열을 추출\n",
    "print(\"마지막 열과 마지막 직전 열:\", A[:, -2:])\n"
   ]
  },
  {
   "cell_type": "code",
   "execution_count": null,
   "id": "6b7966b2",
   "metadata": {},
   "outputs": [],
   "source": []
  }
 ],
 "metadata": {
  "kernelspec": {
   "display_name": "Python 3 (ipykernel)",
   "language": "python",
   "name": "python3"
  },
  "language_info": {
   "codemirror_mode": {
    "name": "ipython",
    "version": 3
   },
   "file_extension": ".py",
   "mimetype": "text/x-python",
   "name": "python",
   "nbconvert_exporter": "python",
   "pygments_lexer": "ipython3",
   "version": "3.9.13"
  }
 },
 "nbformat": 4,
 "nbformat_minor": 5
}
